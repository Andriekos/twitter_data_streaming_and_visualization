{
 "cells": [
  {
   "cell_type": "code",
   "execution_count": 1,
   "metadata": {},
   "outputs": [],
   "source": [
    "#Sumber mamang Marco Bonzanini\n",
    "\n",
    "import tweepy\n",
    "from tweepy import OAuthHandler\n",
    "\n",
    "access_token = '545740744-8r57ykKI8h87GRbBQLUfumBMiqvt3j73KB2L39z3'\n",
    "access_secret = 'Pu5SFhlt1vZxLEo8JEyrZDksLoBZ135POuAEBUb70nj2c'\n",
    "consumer_key = 'kEIPKjtxdljTM2Iooj8h31nDA'\n",
    "consumer_secret = 'JTK1OV0jpEZfMsFsKUYUCuLBvm9tHHk88Y3j1XyhU4nbvLtXE2'\n",
    "\n",
    "auth = OAuthHandler(consumer_key, consumer_secret)\n",
    "auth.set_access_token(access_token, access_secret)\n",
    " \n",
    "api = tweepy.API(auth)"
   ]
  },
  {
   "cell_type": "code",
   "execution_count": 2,
   "metadata": {},
   "outputs": [],
   "source": [
    "from tweepy import Stream\n",
    "from tweepy.streaming import StreamListener"
   ]
  },
  {
   "cell_type": "code",
   "execution_count": null,
   "metadata": {},
   "outputs": [],
   "source": [
    "#fungsi streaming\n",
    " \n",
    "class MyListener(StreamListener):\n",
    " \n",
    "    def on_data(self, data):\n",
    "        try:\n",
    "            with open('kpk.json', 'a') as f:\n",
    "                f.write(data)\n",
    "                return True\n",
    "        except BaseException as e:\n",
    "            print(\"Error on_data: %s\" % str(e))\n",
    "        return True\n",
    " \n",
    "    def on_error(self, status):\n",
    "        print(status)\n",
    "        return True\n",
    "    \n",
    "#creating streaming\n",
    "\n",
    "twitter_stream = Stream(api.auth, MyListener())\n",
    "\n",
    "#start stream\n",
    "\n",
    "twitter_stream.filter(track=['KPK','#KPKJemputPaksaMendag','Mendag'], is_async=True)"
   ]
  },
  {
   "cell_type": "markdown",
   "metadata": {},
   "source": [
    "START HERE"
   ]
  },
  {
   "cell_type": "code",
   "execution_count": 2,
   "metadata": {},
   "outputs": [],
   "source": [
    "import re\n",
    "\n",
    "emoticons_str = r\"\"\"\n",
    "    (?:\n",
    "        [:=;] # Eyes\n",
    "        [oO\\-]? # Nose (optional)\n",
    "        [D\\)]\\(]/\\\\OpP] # Mouth\n",
    "    )\"\"\"\n",
    "\n",
    "regex_str = [\n",
    "    emoticons_str,\n",
    "    r'<[^>]+>', # HTML tags\n",
    "    r'(?:@[\\w_]+)', # @-mentions\n",
    "    r\"(?:\\#+[\\w_]+[\\w\\'_\\-]*[\\w_]+)\", # hash-tags\n",
    "    r'http[s]?://(?:[a-z]|[0-9]|[$-_@.&amp;+]|[!*\\(\\),]|(?:%[0-9a-f][0-9a-f]))+', # URLs\n",
    " \n",
    "    r'(?:(?:\\d+,?)+(?:\\.?\\d+)?)', # numbers\n",
    "    r\"(?:[a-z][a-z'\\-_]+[a-z])\", # words with - and '\n",
    "    r'(?:[\\w_]+)', # other words\n",
    "    r'(?:\\S)' # anything else\n",
    "]\n",
    "\n",
    "tokens_re = re.compile(r'('+'|'.join(regex_str)+')', re.VERBOSE | re.IGNORECASE)\n",
    "emoticon_re = re.compile(r'^'+emoticons_str+'$', re.VERBOSE | re.IGNORECASE)\n",
    " \n",
    "def tokenize(s):\n",
    "    return tokens_re.findall(s)\n",
    " \n",
    "def preprocess(s, lowercase=False):\n",
    "    tokens = tokenize(s)\n",
    "    if lowercase:\n",
    "        tokens = [token if emoticon_re.search(token) else token.lower() for token in tokens]\n",
    "    return tokens"
   ]
  },
  {
   "cell_type": "code",
   "execution_count": 3,
   "metadata": {},
   "outputs": [],
   "source": [
    "import json\n",
    "with open('kpk.json', 'r') as f:\n",
    "    for line in f:\n",
    "        tweet = json.loads(line)\n",
    "        tokens = preprocess(tweet['text'])"
   ]
  },
  {
   "cell_type": "code",
   "execution_count": 4,
   "metadata": {
    "scrolled": true
   },
   "outputs": [
    {
     "name": "stdout",
     "output_type": "stream",
     "text": [
      "[('.', 2737), (':', 1936), ('…', 1886), ('RT', 1849), ('#KPKJemputPaksaMendag', 1475), (',', 963), ('KPK', 599), ('@Prof_Kupi', 558), ('di', 488), ('@Kolak_VI', 477), ('!', 380), ('-', 347), ('@KPK_RI', 314), ('ini', 271), ('yg', 267), ('@NadLiviea', 265), ('?', 264), ('dan', 230), ('@hacknet__71', 215), ('@CNBLUE_9', 210), ('Mendag', 208), ('@idtodaydotco', 197), ('@bang_baret', 196), ('2', 194), ('Tagar', 193), ('tagar', 177), ('10', 176), ('ada', 175), ('Indonesia', 166), ('Sekjen', 161), ('@Berli_75', 152), ('saja', 151), ('dari', 150), ('PBNU', 148), ('ke', 146), ('Dipanggil', 138), ('3', 137), ('Trending', 137), ('untuk', 130), ('@dolirajabi4', 129), ('kalo', 128), ('#KpkJemputPaksaMendag', 126), ('sudah', 122), ('@Teh_TJEMPLUNG', 122), ('Jadi', 121), ('kalian', 117), ('Paling', 117), ('Twitter', 116), ('in', 115), ('x', 115)]\n"
     ]
    }
   ],
   "source": [
    "import operator \n",
    "import json\n",
    "from collections import Counter\n",
    " \n",
    "fname = 'kpk.json'\n",
    "with open(fname, 'r') as f:\n",
    "    count_all = Counter()\n",
    "    for line in f:\n",
    "        tweet = json.loads(line)\n",
    "        terms_all = [term for term in preprocess(tweet['text'])]\n",
    "        count_all.update(terms_all)\n",
    "    print(count_all.most_common(50))"
   ]
  },
  {
   "cell_type": "code",
   "execution_count": 5,
   "metadata": {},
   "outputs": [],
   "source": [
    "from nltk.corpus import stopwords\n",
    "import string\n",
    " \n",
    "punctuation = list(string.punctuation)\n",
    "stop = stopwords.words('english') + punctuation + ['rt', 'via']"
   ]
  },
  {
   "cell_type": "code",
   "execution_count": 6,
   "metadata": {},
   "outputs": [],
   "source": [
    "terms_stop = [term for term in preprocess(tweet['text']) if term not in stop]\n",
    "\n",
    "# Count terms only once, equivalent to Document Frequency\n",
    "terms_single = set(terms_all)\n",
    "# Count hashtags only\n",
    "terms_hash = [term for term in preprocess(tweet['text']) \n",
    "              if term.startswith('#')]\n",
    "# Count terms only (no hashtags, no mentions)\n",
    "terms_only = [term for term in preprocess(tweet['text']) \n",
    "              if term not in stop and\n",
    "              not term.startswith(('#', '@'))] \n",
    "              # mind the ((double brackets))\n",
    "              # startswith() takes a tuple (not a list) if \n",
    "              # we pass a list of inputs"
   ]
  },
  {
   "cell_type": "code",
   "execution_count": 7,
   "metadata": {},
   "outputs": [
    {
     "name": "stdout",
     "output_type": "stream",
     "text": [
      "[('…', 1886), ('RT', 1849), ('#KPKJemputPaksaMendag', 1475), ('KPK', 599), ('@Prof_Kupi', 558), ('di', 488), ('@Kolak_VI', 477), ('@KPK_RI', 314), ('ini', 271), ('yg', 267), ('@NadLiviea', 265), ('dan', 230), ('@hacknet__71', 215), ('@CNBLUE_9', 210), ('Mendag', 208), ('@idtodaydotco', 197), ('@bang_baret', 196), ('2', 194), ('Tagar', 193), ('tagar', 177), ('10', 176), ('ada', 175), ('Indonesia', 166), ('Sekjen', 161), ('@Berli_75', 152), ('saja', 151), ('dari', 150), ('PBNU', 148), ('ke', 146), ('Dipanggil', 138), ('3', 137), ('Trending', 137), ('untuk', 130), ('@dolirajabi4', 129), ('kalo', 128), ('#KpkJemputPaksaMendag', 126), ('sudah', 122), ('@Teh_TJEMPLUNG', 122), ('Jadi', 121), ('kalian', 117), ('Paling', 117), ('Twitter', 116), ('x', 115), ('Atas', 115), ('1', 112), ('orang', 112), ('pada', 109), ('ga', 109), ('@Cte_cute', 107), ('https://t.co/Zrh8gkNx8r', 107)]\n"
     ]
    }
   ],
   "source": [
    "fname = 'kpk.json'\n",
    "with open(fname, 'r') as f:\n",
    "    count_all = Counter()\n",
    "    for line in f:\n",
    "        tweet = json.loads(line)\n",
    "        terms_all = [term for term in preprocess(tweet['text'])]\n",
    "        terms_stop = [term for term in preprocess(tweet['text']) if term not in stop]\n",
    "        count_all.update(terms_stop)\n",
    "    print(count_all.most_common(50))"
   ]
  },
  {
   "cell_type": "code",
   "execution_count": 20,
   "metadata": {},
   "outputs": [
    {
     "data": {
      "text/html": [
       "\n",
       "           <script>\n",
       "               \n",
       "                function vct_load_lib(url, callback){\n",
       "                      if(typeof d3 !== 'undefined' &&\n",
       "                         url === 'http://d3js.org/d3.v3.min.js'){\n",
       "                        callback()\n",
       "                      }\n",
       "                      var s = document.createElement('script');\n",
       "                      s.src = url;\n",
       "                      s.async = true;\n",
       "                      s.onreadystatechange = s.onload = callback;\n",
       "                      s.onerror = function(){\n",
       "                        console.warn(\"failed to load library \" + url);\n",
       "                        };\n",
       "                      document.getElementsByTagName(\"head\")[0].appendChild(s);\n",
       "                };\n",
       "                var vincent_event = new CustomEvent(\n",
       "                  \"vincent_libs_loaded\",\n",
       "                  {bubbles: true, cancelable: true}\n",
       "                );\n",
       "                \n",
       "               function load_all_libs(){\n",
       "                  console.log('Loading Vincent libs...')\n",
       "                  vct_load_lib('http://d3js.org/d3.v3.min.js', function(){\n",
       "                  vct_load_lib('http://d3js.org/d3.geo.projection.v0.min.js', function(){\n",
       "                  vct_load_lib('http://wrobstory.github.io/d3-cloud/d3.layout.cloud.js', function(){\n",
       "                  vct_load_lib('http://wrobstory.github.io/vega/vega.v1.3.3.js', function(){\n",
       "                  window.dispatchEvent(vincent_event);\n",
       "                  });\n",
       "                  });\n",
       "                  });\n",
       "                  });\n",
       "               };\n",
       "               if(typeof define === \"function\" && define.amd){\n",
       "                    if (window['d3'] === undefined ||\n",
       "                        window['topojson'] === undefined){\n",
       "                        require.config(\n",
       "                            {paths: {\n",
       "                              d3: 'http://d3js.org/d3.v3.min',\n",
       "                              topojson: 'http://d3js.org/topojson.v1.min'\n",
       "                              }\n",
       "                            }\n",
       "                          );\n",
       "                        require([\"d3\"], function(d3){\n",
       "                            console.log('Loading Vincent from require.js...')\n",
       "                            window.d3 = d3;\n",
       "                            require([\"topojson\"], function(topojson){\n",
       "                                window.topojson = topojson;\n",
       "                                load_all_libs();\n",
       "                            });\n",
       "                        });\n",
       "                    } else {\n",
       "                        load_all_libs();\n",
       "                    };\n",
       "               }else{\n",
       "                    console.log('Require.js not found, loading manually...')\n",
       "                    load_all_libs();\n",
       "               };\n",
       "\n",
       "           </script>"
      ],
      "text/plain": [
       "<IPython.core.display.HTML object>"
      ]
     },
     "metadata": {},
     "output_type": "display_data"
    },
    {
     "data": {
      "text/html": [
       "<div id=\"visb66414eacb574597bae1261eb98acb40\"></div>\n",
       "<script>\n",
       "   ( function() {\n",
       "     var _do_plot = function() {\n",
       "       if (typeof vg === 'undefined') {\n",
       "         window.addEventListener('vincent_libs_loaded', _do_plot)\n",
       "         return;\n",
       "       }\n",
       "       vg.parse.spec({\"axes\": [{\"scale\": \"x\", \"type\": \"x\"}, {\"scale\": \"y\", \"type\": \"y\"}], \"data\": [{\"name\": \"table\", \"values\": [{\"col\": \"data\", \"idx\": \"\\u2026\", \"val\": 1886}, {\"col\": \"data\", \"idx\": \"RT\", \"val\": 1849}, {\"col\": \"data\", \"idx\": \"#KPKJemputPaksaMendag\", \"val\": 1475}, {\"col\": \"data\", \"idx\": \"KPK\", \"val\": 599}, {\"col\": \"data\", \"idx\": \"@Prof_Kupi\", \"val\": 558}, {\"col\": \"data\", \"idx\": \"di\", \"val\": 488}, {\"col\": \"data\", \"idx\": \"@Kolak_VI\", \"val\": 477}, {\"col\": \"data\", \"idx\": \"@KPK_RI\", \"val\": 314}, {\"col\": \"data\", \"idx\": \"ini\", \"val\": 271}, {\"col\": \"data\", \"idx\": \"yg\", \"val\": 267}, {\"col\": \"data\", \"idx\": \"@NadLiviea\", \"val\": 265}, {\"col\": \"data\", \"idx\": \"dan\", \"val\": 230}, {\"col\": \"data\", \"idx\": \"@hacknet__71\", \"val\": 215}, {\"col\": \"data\", \"idx\": \"@CNBLUE_9\", \"val\": 210}, {\"col\": \"data\", \"idx\": \"Mendag\", \"val\": 208}, {\"col\": \"data\", \"idx\": \"@idtodaydotco\", \"val\": 197}, {\"col\": \"data\", \"idx\": \"@bang_baret\", \"val\": 196}, {\"col\": \"data\", \"idx\": \"2\", \"val\": 194}, {\"col\": \"data\", \"idx\": \"Tagar\", \"val\": 193}, {\"col\": \"data\", \"idx\": \"tagar\", \"val\": 177}]}, {\"name\": \"stats\", \"source\": \"table\", \"transform\": [{\"keys\": [\"data.idx\"], \"type\": \"facet\"}, {\"type\": \"stats\", \"value\": \"data.val\"}]}], \"height\": 500, \"legends\": [], \"marks\": [{\"from\": {\"data\": \"table\", \"transform\": [{\"keys\": [\"data.col\"], \"type\": \"facet\"}, {\"height\": \"data.val\", \"point\": \"data.idx\", \"type\": \"stack\"}]}, \"marks\": [{\"properties\": {\"enter\": {\"fill\": {\"field\": \"data.col\", \"scale\": \"color\"}, \"width\": {\"band\": true, \"offset\": -1, \"scale\": \"x\"}, \"x\": {\"field\": \"data.idx\", \"scale\": \"x\"}, \"y\": {\"field\": \"y\", \"scale\": \"y\"}, \"y2\": {\"field\": \"y2\", \"scale\": \"y\"}}}, \"type\": \"rect\"}], \"type\": \"group\"}], \"padding\": \"auto\", \"scales\": [{\"domain\": {\"data\": \"table\", \"field\": \"data.idx\"}, \"name\": \"x\", \"range\": \"width\", \"type\": \"ordinal\", \"zero\": false}, {\"domain\": {\"data\": \"stats\", \"field\": \"sum\"}, \"name\": \"y\", \"nice\": true, \"range\": \"height\"}, {\"domain\": {\"data\": \"table\", \"field\": \"data.col\"}, \"name\": \"color\", \"range\": \"category20\", \"type\": \"ordinal\"}], \"width\": 960}, function(chart) {\n",
       "         chart({el: \"#visb66414eacb574597bae1261eb98acb40\"}).update();\n",
       "       });\n",
       "     };\n",
       "     _do_plot();\n",
       "   })();\n",
       "</script>\n",
       "<style>.vega canvas {width: 100%;}</style>\n",
       "        "
      ],
      "text/plain": [
       "<IPython.core.display.HTML object>"
      ]
     },
     "metadata": {},
     "output_type": "display_data"
    }
   ],
   "source": [
    "import vincent\n",
    "vincent.core.initialize_notebook()\n",
    "\n",
    "word_freq = count_all.most_common(20)\n",
    "labels, freq = zip(*word_freq)\n",
    "data = {'data': freq, 'x': labels}\n",
    "bar = vincent.Bar(data, iter_idx='x')\n",
    "bar.display()\n",
    "#bar.to_json('term_freq.json')"
   ]
  },
  {
   "cell_type": "code",
   "execution_count": null,
   "metadata": {},
   "outputs": [],
   "source": [
    "bar.to_json('term_freq.json', html_out=True, html_path='chart.html')"
   ]
  },
  {
   "cell_type": "code",
   "execution_count": null,
   "metadata": {
    "scrolled": true
   },
   "outputs": [],
   "source": [
    "!python -m http.server 8000"
   ]
  },
  {
   "cell_type": "code",
   "execution_count": 24,
   "metadata": {},
   "outputs": [],
   "source": [
    "import pandas\n",
    "import json\n",
    "import vincent\n",
    "\n",
    "dates_ITAvWAL = []\n",
    "# f is the file pointer to the JSON data set\n",
    "fname = 'kpk.json'\n",
    "with open(fname, 'r') as f:\n",
    "    for line in f:\n",
    "        tweet = json.loads(line)\n",
    "        # let's focus on hashtags only at the moment\n",
    "        terms_hash = [term for term in preprocess(tweet['text']) if term.startswith('#')]\n",
    "        # track when the hashtag is mentioned\n",
    "        if '#KPKJemputPaksaMendag' in terms_hash:\n",
    "            dates_ITAvWAL.append(tweet['created_at'])\n",
    " \n",
    "# a list of \"1\" to count the hashtags\n",
    "ones = [1]*len(dates_ITAvWAL)\n",
    "# the index of the series\n",
    "idx = pandas.DatetimeIndex(dates_ITAvWAL)\n",
    "# the actual series (at series of 1s for the moment)\n",
    "ITAvWAL = pandas.Series(ones, index=idx)\n",
    " \n",
    "# Resampling / bucketing\n",
    "per_minute = ITAvWAL.resample('1Min').sum().fillna(0)\n",
    "#print(per_minute)"
   ]
  },
  {
   "cell_type": "code",
   "execution_count": 25,
   "metadata": {},
   "outputs": [
    {
     "data": {
      "text/html": [
       "\n",
       "           <script>\n",
       "               \n",
       "                function vct_load_lib(url, callback){\n",
       "                      if(typeof d3 !== 'undefined' &&\n",
       "                         url === 'http://d3js.org/d3.v3.min.js'){\n",
       "                        callback()\n",
       "                      }\n",
       "                      var s = document.createElement('script');\n",
       "                      s.src = url;\n",
       "                      s.async = true;\n",
       "                      s.onreadystatechange = s.onload = callback;\n",
       "                      s.onerror = function(){\n",
       "                        console.warn(\"failed to load library \" + url);\n",
       "                        };\n",
       "                      document.getElementsByTagName(\"head\")[0].appendChild(s);\n",
       "                };\n",
       "                var vincent_event = new CustomEvent(\n",
       "                  \"vincent_libs_loaded\",\n",
       "                  {bubbles: true, cancelable: true}\n",
       "                );\n",
       "                \n",
       "               function load_all_libs(){\n",
       "                  console.log('Loading Vincent libs...')\n",
       "                  vct_load_lib('http://d3js.org/d3.v3.min.js', function(){\n",
       "                  vct_load_lib('http://d3js.org/d3.geo.projection.v0.min.js', function(){\n",
       "                  vct_load_lib('http://wrobstory.github.io/d3-cloud/d3.layout.cloud.js', function(){\n",
       "                  vct_load_lib('http://wrobstory.github.io/vega/vega.v1.3.3.js', function(){\n",
       "                  window.dispatchEvent(vincent_event);\n",
       "                  });\n",
       "                  });\n",
       "                  });\n",
       "                  });\n",
       "               };\n",
       "               if(typeof define === \"function\" && define.amd){\n",
       "                    if (window['d3'] === undefined ||\n",
       "                        window['topojson'] === undefined){\n",
       "                        require.config(\n",
       "                            {paths: {\n",
       "                              d3: 'http://d3js.org/d3.v3.min',\n",
       "                              topojson: 'http://d3js.org/topojson.v1.min'\n",
       "                              }\n",
       "                            }\n",
       "                          );\n",
       "                        require([\"d3\"], function(d3){\n",
       "                            console.log('Loading Vincent from require.js...')\n",
       "                            window.d3 = d3;\n",
       "                            require([\"topojson\"], function(topojson){\n",
       "                                window.topojson = topojson;\n",
       "                                load_all_libs();\n",
       "                            });\n",
       "                        });\n",
       "                    } else {\n",
       "                        load_all_libs();\n",
       "                    };\n",
       "               }else{\n",
       "                    console.log('Require.js not found, loading manually...')\n",
       "                    load_all_libs();\n",
       "               };\n",
       "\n",
       "           </script>"
      ],
      "text/plain": [
       "<IPython.core.display.HTML object>"
      ]
     },
     "metadata": {},
     "output_type": "display_data"
    },
    {
     "data": {
      "text/html": [
       "<div id=\"vis6ef21481e8034cfc8d2ab5b1ea6d108b\"></div>\n",
       "<script>\n",
       "   ( function() {\n",
       "     var _do_plot = function() {\n",
       "       if (typeof vg === 'undefined') {\n",
       "         window.addEventListener('vincent_libs_loaded', _do_plot)\n",
       "         return;\n",
       "       }\n",
       "       vg.parse.spec({\"axes\": [{\"scale\": \"x\", \"title\": \"Time\", \"type\": \"x\"}, {\"scale\": \"y\", \"title\": \"Freq\", \"type\": \"y\"}], \"data\": [{\"name\": \"table\", \"values\": [{\"col\": \"data\", \"idx\": 1565836260000, \"val\": 6}, {\"col\": \"data\", \"idx\": 1565836320000, \"val\": 9}, {\"col\": \"data\", \"idx\": 1565836380000, \"val\": 14}, {\"col\": \"data\", \"idx\": 1565836440000, \"val\": 9}, {\"col\": \"data\", \"idx\": 1565836500000, \"val\": 16}, {\"col\": \"data\", \"idx\": 1565836560000, \"val\": 9}, {\"col\": \"data\", \"idx\": 1565836620000, \"val\": 13}, {\"col\": \"data\", \"idx\": 1565836680000, \"val\": 16}, {\"col\": \"data\", \"idx\": 1565836740000, \"val\": 7}, {\"col\": \"data\", \"idx\": 1565836800000, \"val\": 7}, {\"col\": \"data\", \"idx\": 1565836860000, \"val\": 7}, {\"col\": \"data\", \"idx\": 1565836920000, \"val\": 2}, {\"col\": \"data\", \"idx\": 1565836980000, \"val\": 7}, {\"col\": \"data\", \"idx\": 1565837040000, \"val\": 16}, {\"col\": \"data\", \"idx\": 1565837100000, \"val\": 9}, {\"col\": \"data\", \"idx\": 1565837160000, \"val\": 6}, {\"col\": \"data\", \"idx\": 1565837220000, \"val\": 13}, {\"col\": \"data\", \"idx\": 1565837280000, \"val\": 11}, {\"col\": \"data\", \"idx\": 1565837340000, \"val\": 12}, {\"col\": \"data\", \"idx\": 1565837400000, \"val\": 8}, {\"col\": \"data\", \"idx\": 1565837460000, \"val\": 10}, {\"col\": \"data\", \"idx\": 1565837520000, \"val\": 14}, {\"col\": \"data\", \"idx\": 1565837580000, \"val\": 18}, {\"col\": \"data\", \"idx\": 1565837640000, \"val\": 7}, {\"col\": \"data\", \"idx\": 1565837700000, \"val\": 11}, {\"col\": \"data\", \"idx\": 1565837760000, \"val\": 11}, {\"col\": \"data\", \"idx\": 1565837820000, \"val\": 15}, {\"col\": \"data\", \"idx\": 1565837880000, \"val\": 6}, {\"col\": \"data\", \"idx\": 1565837940000, \"val\": 7}, {\"col\": \"data\", \"idx\": 1565838000000, \"val\": 13}, {\"col\": \"data\", \"idx\": 1565838060000, \"val\": 7}, {\"col\": \"data\", \"idx\": 1565838120000, \"val\": 9}, {\"col\": \"data\", \"idx\": 1565838180000, \"val\": 11}, {\"col\": \"data\", \"idx\": 1565838240000, \"val\": 7}, {\"col\": \"data\", \"idx\": 1565838300000, \"val\": 10}, {\"col\": \"data\", \"idx\": 1565838360000, \"val\": 14}, {\"col\": \"data\", \"idx\": 1565838420000, \"val\": 17}, {\"col\": \"data\", \"idx\": 1565838480000, \"val\": 10}, {\"col\": \"data\", \"idx\": 1565838540000, \"val\": 15}, {\"col\": \"data\", \"idx\": 1565838600000, \"val\": 8}, {\"col\": \"data\", \"idx\": 1565838660000, \"val\": 5}, {\"col\": \"data\", \"idx\": 1565838720000, \"val\": 0}, {\"col\": \"data\", \"idx\": 1565838780000, \"val\": 0}, {\"col\": \"data\", \"idx\": 1565838840000, \"val\": 0}, {\"col\": \"data\", \"idx\": 1565838900000, \"val\": 0}, {\"col\": \"data\", \"idx\": 1565838960000, \"val\": 0}, {\"col\": \"data\", \"idx\": 1565839020000, \"val\": 0}, {\"col\": \"data\", \"idx\": 1565839080000, \"val\": 0}, {\"col\": \"data\", \"idx\": 1565839140000, \"val\": 0}, {\"col\": \"data\", \"idx\": 1565839200000, \"val\": 0}, {\"col\": \"data\", \"idx\": 1565839260000, \"val\": 0}, {\"col\": \"data\", \"idx\": 1565839320000, \"val\": 0}, {\"col\": \"data\", \"idx\": 1565839380000, \"val\": 0}, {\"col\": \"data\", \"idx\": 1565839440000, \"val\": 9}, {\"col\": \"data\", \"idx\": 1565839500000, \"val\": 9}, {\"col\": \"data\", \"idx\": 1565839560000, \"val\": 7}, {\"col\": \"data\", \"idx\": 1565839620000, \"val\": 8}, {\"col\": \"data\", \"idx\": 1565839680000, \"val\": 11}, {\"col\": \"data\", \"idx\": 1565839740000, \"val\": 6}, {\"col\": \"data\", \"idx\": 1565839800000, \"val\": 13}, {\"col\": \"data\", \"idx\": 1565839860000, \"val\": 12}, {\"col\": \"data\", \"idx\": 1565839920000, \"val\": 7}, {\"col\": \"data\", \"idx\": 1565839980000, \"val\": 5}, {\"col\": \"data\", \"idx\": 1565840040000, \"val\": 2}, {\"col\": \"data\", \"idx\": 1565840100000, \"val\": 0}, {\"col\": \"data\", \"idx\": 1565840160000, \"val\": 0}, {\"col\": \"data\", \"idx\": 1565840220000, \"val\": 0}, {\"col\": \"data\", \"idx\": 1565840280000, \"val\": 0}, {\"col\": \"data\", \"idx\": 1565840340000, \"val\": 0}, {\"col\": \"data\", \"idx\": 1565840400000, \"val\": 0}, {\"col\": \"data\", \"idx\": 1565840460000, \"val\": 0}, {\"col\": \"data\", \"idx\": 1565840520000, \"val\": 0}, {\"col\": \"data\", \"idx\": 1565840580000, \"val\": 0}, {\"col\": \"data\", \"idx\": 1565840640000, \"val\": 0}, {\"col\": \"data\", \"idx\": 1565840700000, \"val\": 0}, {\"col\": \"data\", \"idx\": 1565840760000, \"val\": 0}, {\"col\": \"data\", \"idx\": 1565840820000, \"val\": 0}, {\"col\": \"data\", \"idx\": 1565840880000, \"val\": 0}, {\"col\": \"data\", \"idx\": 1565840940000, \"val\": 0}, {\"col\": \"data\", \"idx\": 1565841000000, \"val\": 0}, {\"col\": \"data\", \"idx\": 1565841060000, \"val\": 0}, {\"col\": \"data\", \"idx\": 1565841120000, \"val\": 0}, {\"col\": \"data\", \"idx\": 1565841180000, \"val\": 4}, {\"col\": \"data\", \"idx\": 1565841240000, \"val\": 18}, {\"col\": \"data\", \"idx\": 1565841300000, \"val\": 15}, {\"col\": \"data\", \"idx\": 1565841360000, \"val\": 11}, {\"col\": \"data\", \"idx\": 1565841420000, \"val\": 11}, {\"col\": \"data\", \"idx\": 1565841480000, \"val\": 8}, {\"col\": \"data\", \"idx\": 1565841540000, \"val\": 11}, {\"col\": \"data\", \"idx\": 1565841600000, \"val\": 13}, {\"col\": \"data\", \"idx\": 1565841660000, \"val\": 5}, {\"col\": \"data\", \"idx\": 1565841720000, \"val\": 7}, {\"col\": \"data\", \"idx\": 1565841780000, \"val\": 8}, {\"col\": \"data\", \"idx\": 1565841840000, \"val\": 7}, {\"col\": \"data\", \"idx\": 1565841900000, \"val\": 5}, {\"col\": \"data\", \"idx\": 1565841960000, \"val\": 6}, {\"col\": \"data\", \"idx\": 1565842020000, \"val\": 3}, {\"col\": \"data\", \"idx\": 1565842080000, \"val\": 11}, {\"col\": \"data\", \"idx\": 1565842140000, \"val\": 7}, {\"col\": \"data\", \"idx\": 1565842200000, \"val\": 5}, {\"col\": \"data\", \"idx\": 1565842260000, \"val\": 10}, {\"col\": \"data\", \"idx\": 1565842320000, \"val\": 7}, {\"col\": \"data\", \"idx\": 1565842380000, \"val\": 2}, {\"col\": \"data\", \"idx\": 1565842440000, \"val\": 7}, {\"col\": \"data\", \"idx\": 1565842500000, \"val\": 6}, {\"col\": \"data\", \"idx\": 1565842560000, \"val\": 5}, {\"col\": \"data\", \"idx\": 1565842620000, \"val\": 8}, {\"col\": \"data\", \"idx\": 1565842680000, \"val\": 4}, {\"col\": \"data\", \"idx\": 1565842740000, \"val\": 4}, {\"col\": \"data\", \"idx\": 1565842800000, \"val\": 8}, {\"col\": \"data\", \"idx\": 1565842860000, \"val\": 5}, {\"col\": \"data\", \"idx\": 1565842920000, \"val\": 2}, {\"col\": \"data\", \"idx\": 1565842980000, \"val\": 0}, {\"col\": \"data\", \"idx\": 1565843040000, \"val\": 0}, {\"col\": \"data\", \"idx\": 1565843100000, \"val\": 0}, {\"col\": \"data\", \"idx\": 1565843160000, \"val\": 0}, {\"col\": \"data\", \"idx\": 1565843220000, \"val\": 0}, {\"col\": \"data\", \"idx\": 1565843280000, \"val\": 0}, {\"col\": \"data\", \"idx\": 1565843340000, \"val\": 0}, {\"col\": \"data\", \"idx\": 1565843400000, \"val\": 0}, {\"col\": \"data\", \"idx\": 1565843460000, \"val\": 0}, {\"col\": \"data\", \"idx\": 1565843520000, \"val\": 0}, {\"col\": \"data\", \"idx\": 1565843580000, \"val\": 0}, {\"col\": \"data\", \"idx\": 1565843640000, \"val\": 0}, {\"col\": \"data\", \"idx\": 1565843700000, \"val\": 0}, {\"col\": \"data\", \"idx\": 1565843760000, \"val\": 0}, {\"col\": \"data\", \"idx\": 1565843820000, \"val\": 0}, {\"col\": \"data\", \"idx\": 1565843880000, \"val\": 0}, {\"col\": \"data\", \"idx\": 1565843940000, \"val\": 0}, {\"col\": \"data\", \"idx\": 1565844000000, \"val\": 0}, {\"col\": \"data\", \"idx\": 1565844060000, \"val\": 0}, {\"col\": \"data\", \"idx\": 1565844120000, \"val\": 0}, {\"col\": \"data\", \"idx\": 1565844180000, \"val\": 0}, {\"col\": \"data\", \"idx\": 1565844240000, \"val\": 0}, {\"col\": \"data\", \"idx\": 1565844300000, \"val\": 0}, {\"col\": \"data\", \"idx\": 1565844360000, \"val\": 0}, {\"col\": \"data\", \"idx\": 1565844420000, \"val\": 0}, {\"col\": \"data\", \"idx\": 1565844480000, \"val\": 0}, {\"col\": \"data\", \"idx\": 1565844540000, \"val\": 0}, {\"col\": \"data\", \"idx\": 1565844600000, \"val\": 0}, {\"col\": \"data\", \"idx\": 1565844660000, \"val\": 0}, {\"col\": \"data\", \"idx\": 1565844720000, \"val\": 0}, {\"col\": \"data\", \"idx\": 1565844780000, \"val\": 0}, {\"col\": \"data\", \"idx\": 1565844840000, \"val\": 0}, {\"col\": \"data\", \"idx\": 1565844900000, \"val\": 0}, {\"col\": \"data\", \"idx\": 1565844960000, \"val\": 0}, {\"col\": \"data\", \"idx\": 1565845020000, \"val\": 0}, {\"col\": \"data\", \"idx\": 1565845080000, \"val\": 0}, {\"col\": \"data\", \"idx\": 1565845140000, \"val\": 0}, {\"col\": \"data\", \"idx\": 1565845200000, \"val\": 10}, {\"col\": \"data\", \"idx\": 1565845260000, \"val\": 10}, {\"col\": \"data\", \"idx\": 1565845320000, \"val\": 12}, {\"col\": \"data\", \"idx\": 1565845380000, \"val\": 18}, {\"col\": \"data\", \"idx\": 1565845440000, \"val\": 10}, {\"col\": \"data\", \"idx\": 1565845500000, \"val\": 16}, {\"col\": \"data\", \"idx\": 1565845560000, \"val\": 17}, {\"col\": \"data\", \"idx\": 1565845620000, \"val\": 2}, {\"col\": \"data\", \"idx\": 1565845680000, \"val\": 0}, {\"col\": \"data\", \"idx\": 1565845740000, \"val\": 0}, {\"col\": \"data\", \"idx\": 1565845800000, \"val\": 0}, {\"col\": \"data\", \"idx\": 1565845860000, \"val\": 0}, {\"col\": \"data\", \"idx\": 1565845920000, \"val\": 0}, {\"col\": \"data\", \"idx\": 1565845980000, \"val\": 1}, {\"col\": \"data\", \"idx\": 1565846040000, \"val\": 9}, {\"col\": \"data\", \"idx\": 1565846100000, \"val\": 13}, {\"col\": \"data\", \"idx\": 1565846160000, \"val\": 7}, {\"col\": \"data\", \"idx\": 1565846220000, \"val\": 2}, {\"col\": \"data\", \"idx\": 1565846280000, \"val\": 4}, {\"col\": \"data\", \"idx\": 1565846340000, \"val\": 5}, {\"col\": \"data\", \"idx\": 1565846400000, \"val\": 10}, {\"col\": \"data\", \"idx\": 1565846460000, \"val\": 13}, {\"col\": \"data\", \"idx\": 1565846520000, \"val\": 6}, {\"col\": \"data\", \"idx\": 1565846580000, \"val\": 15}, {\"col\": \"data\", \"idx\": 1565846640000, \"val\": 17}, {\"col\": \"data\", \"idx\": 1565846700000, \"val\": 12}, {\"col\": \"data\", \"idx\": 1565846760000, \"val\": 16}]}], \"height\": 500, \"legends\": [], \"marks\": [{\"from\": {\"data\": \"table\", \"transform\": [{\"keys\": [\"data.col\"], \"type\": \"facet\"}]}, \"marks\": [{\"properties\": {\"enter\": {\"stroke\": {\"field\": \"data.col\", \"scale\": \"color\"}, \"strokeWidth\": {\"value\": 2}, \"x\": {\"field\": \"data.idx\", \"scale\": \"x\"}, \"y\": {\"field\": \"data.val\", \"scale\": \"y\"}}}, \"type\": \"line\"}], \"type\": \"group\"}], \"padding\": \"auto\", \"scales\": [{\"domain\": {\"data\": \"table\", \"field\": \"data.idx\"}, \"name\": \"x\", \"range\": \"width\", \"type\": \"time\"}, {\"domain\": {\"data\": \"table\", \"field\": \"data.val\"}, \"name\": \"y\", \"nice\": true, \"range\": \"height\"}, {\"domain\": {\"data\": \"table\", \"field\": \"data.col\"}, \"name\": \"color\", \"range\": \"category20\", \"type\": \"ordinal\"}], \"width\": 960}, function(chart) {\n",
       "         chart({el: \"#vis6ef21481e8034cfc8d2ab5b1ea6d108b\"}).update();\n",
       "       });\n",
       "     };\n",
       "     _do_plot();\n",
       "   })();\n",
       "</script>\n",
       "<style>.vega canvas {width: 100%;}</style>\n",
       "        "
      ],
      "text/plain": [
       "<IPython.core.display.HTML object>"
      ]
     },
     "metadata": {},
     "output_type": "display_data"
    }
   ],
   "source": [
    "vincent.core.initialize_notebook()\n",
    "time_chart = vincent.Line(per_minute)\n",
    "time_chart.axis_titles(x='Time', y='Freq')\n",
    "time_chart.display()"
   ]
  },
  {
   "cell_type": "code",
   "execution_count": 12,
   "metadata": {},
   "outputs": [],
   "source": [
    "time_chart.to_json('chart_time_1.json', html_out=True, html_path='chart_time_1.html')"
   ]
  },
  {
   "cell_type": "code",
   "execution_count": null,
   "metadata": {},
   "outputs": [],
   "source": [
    "!python -m http.server 8000"
   ]
  },
  {
   "cell_type": "code",
   "execution_count": 20,
   "metadata": {},
   "outputs": [],
   "source": [
    "import pandas\n",
    "import json\n",
    "import vincent\n",
    "\n",
    "dates_ITAvWAL = []\n",
    "# f is the file pointer to the JSON data set\n",
    "fname = 'kpk.json'\n",
    "with open(fname, 'r') as f:\n",
    "    for line in f:\n",
    "        tweet = json.loads(line)\n",
    "        # let's focus on hashtags only at the moment\n",
    "        terms_hash = [term for term in preprocess(tweet['text']) if term.startswith('#')]\n",
    "        # track when the hashtag is mentioned\n",
    "        if '#KPKJemputPaksaMendag' in terms_hash:\n",
    "            dates_ITAvWAL.append(tweet['created_at'])\n",
    " \n",
    "# a list of \"1\" to count the hashtags\n",
    "ones = [1]*len(dates_ITAvWAL)\n",
    "# the index of the series\n",
    "idx = pandas.DatetimeIndex(dates_ITAvWAL)\n",
    "# the actual series (at series of 1s for the moment)\n",
    "ITAvWAL = pandas.Series(ones, index=idx)\n",
    " \n",
    "# Resampling / bucketing\n",
    "per_minute = ITAvWAL.resample('1Min').sum().fillna(0)\n",
    "#print(per_minute)"
   ]
  },
  {
   "cell_type": "code",
   "execution_count": 34,
   "metadata": {},
   "outputs": [],
   "source": [
    "dates_ITAvWAL = []\n",
    "# f is the file pointer to the JSON data set\n",
    "fname = 'kpk.json'\n",
    "with open(fname, 'r') as f:\n",
    "    for line in f:\n",
    "        tweet = json.loads(line)\n",
    "        # let's focus on hashtags only at the moment\n",
    "        terms_hash = [term for term in preprocess(tweet['text']) if term.startswith('')]\n",
    "        # track when the hashtag is mentioned\n",
    "        if 'Mendag' in terms_hash:\n",
    "            dates_ITAvWAL.append(tweet['created_at'])\n",
    " \n",
    "# a list of \"1\" to count the hashtags\n",
    "ones = [1]*len(dates_ITAvWAL)\n",
    "# the index of the series\n",
    "idx = pandas.DatetimeIndex(dates_ITAvWAL)\n",
    "# the actual series (at series of 1s for the moment)\n",
    "ITAvWAL = pandas.Series(ones, index=idx)\n",
    " \n",
    "# Resampling / bucketing\n",
    "per_minute = ITAvWAL.resample('1Min').sum().fillna(0)\n",
    "#print(per_minute)"
   ]
  },
  {
   "cell_type": "code",
   "execution_count": 35,
   "metadata": {},
   "outputs": [
    {
     "data": {
      "text/html": [
       "\n",
       "           <script>\n",
       "               \n",
       "                function vct_load_lib(url, callback){\n",
       "                      if(typeof d3 !== 'undefined' &&\n",
       "                         url === 'http://d3js.org/d3.v3.min.js'){\n",
       "                        callback()\n",
       "                      }\n",
       "                      var s = document.createElement('script');\n",
       "                      s.src = url;\n",
       "                      s.async = true;\n",
       "                      s.onreadystatechange = s.onload = callback;\n",
       "                      s.onerror = function(){\n",
       "                        console.warn(\"failed to load library \" + url);\n",
       "                        };\n",
       "                      document.getElementsByTagName(\"head\")[0].appendChild(s);\n",
       "                };\n",
       "                var vincent_event = new CustomEvent(\n",
       "                  \"vincent_libs_loaded\",\n",
       "                  {bubbles: true, cancelable: true}\n",
       "                );\n",
       "                \n",
       "               function load_all_libs(){\n",
       "                  console.log('Loading Vincent libs...')\n",
       "                  vct_load_lib('http://d3js.org/d3.v3.min.js', function(){\n",
       "                  vct_load_lib('http://d3js.org/d3.geo.projection.v0.min.js', function(){\n",
       "                  vct_load_lib('http://wrobstory.github.io/d3-cloud/d3.layout.cloud.js', function(){\n",
       "                  vct_load_lib('http://wrobstory.github.io/vega/vega.v1.3.3.js', function(){\n",
       "                  window.dispatchEvent(vincent_event);\n",
       "                  });\n",
       "                  });\n",
       "                  });\n",
       "                  });\n",
       "               };\n",
       "               if(typeof define === \"function\" && define.amd){\n",
       "                    if (window['d3'] === undefined ||\n",
       "                        window['topojson'] === undefined){\n",
       "                        require.config(\n",
       "                            {paths: {\n",
       "                              d3: 'http://d3js.org/d3.v3.min',\n",
       "                              topojson: 'http://d3js.org/topojson.v1.min'\n",
       "                              }\n",
       "                            }\n",
       "                          );\n",
       "                        require([\"d3\"], function(d3){\n",
       "                            console.log('Loading Vincent from require.js...')\n",
       "                            window.d3 = d3;\n",
       "                            require([\"topojson\"], function(topojson){\n",
       "                                window.topojson = topojson;\n",
       "                                load_all_libs();\n",
       "                            });\n",
       "                        });\n",
       "                    } else {\n",
       "                        load_all_libs();\n",
       "                    };\n",
       "               }else{\n",
       "                    console.log('Require.js not found, loading manually...')\n",
       "                    load_all_libs();\n",
       "               };\n",
       "\n",
       "           </script>"
      ],
      "text/plain": [
       "<IPython.core.display.HTML object>"
      ]
     },
     "metadata": {},
     "output_type": "display_data"
    },
    {
     "data": {
      "text/html": [
       "<div id=\"visfdfe0e5595e44d0298e9f0120cf1c497\"></div>\n",
       "<script>\n",
       "   ( function() {\n",
       "     var _do_plot = function() {\n",
       "       if (typeof vg === 'undefined') {\n",
       "         window.addEventListener('vincent_libs_loaded', _do_plot)\n",
       "         return;\n",
       "       }\n",
       "       vg.parse.spec({\"axes\": [{\"scale\": \"x\", \"title\": \"Time\", \"type\": \"x\"}, {\"scale\": \"y\", \"title\": \"Freq\", \"type\": \"y\"}], \"data\": [{\"name\": \"table\", \"values\": [{\"col\": \"data\", \"idx\": 1565836260000, \"val\": 1}, {\"col\": \"data\", \"idx\": 1565836320000, \"val\": 0}, {\"col\": \"data\", \"idx\": 1565836380000, \"val\": 1}, {\"col\": \"data\", \"idx\": 1565836440000, \"val\": 0}, {\"col\": \"data\", \"idx\": 1565836500000, \"val\": 3}, {\"col\": \"data\", \"idx\": 1565836560000, \"val\": 1}, {\"col\": \"data\", \"idx\": 1565836620000, \"val\": 3}, {\"col\": \"data\", \"idx\": 1565836680000, \"val\": 4}, {\"col\": \"data\", \"idx\": 1565836740000, \"val\": 4}, {\"col\": \"data\", \"idx\": 1565836800000, \"val\": 3}, {\"col\": \"data\", \"idx\": 1565836860000, \"val\": 1}, {\"col\": \"data\", \"idx\": 1565836920000, \"val\": 1}, {\"col\": \"data\", \"idx\": 1565836980000, \"val\": 3}, {\"col\": \"data\", \"idx\": 1565837040000, \"val\": 2}, {\"col\": \"data\", \"idx\": 1565837100000, \"val\": 2}, {\"col\": \"data\", \"idx\": 1565837160000, \"val\": 1}, {\"col\": \"data\", \"idx\": 1565837220000, \"val\": 2}, {\"col\": \"data\", \"idx\": 1565837280000, \"val\": 6}, {\"col\": \"data\", \"idx\": 1565837340000, \"val\": 4}, {\"col\": \"data\", \"idx\": 1565837400000, \"val\": 3}, {\"col\": \"data\", \"idx\": 1565837460000, \"val\": 3}, {\"col\": \"data\", \"idx\": 1565837520000, \"val\": 1}, {\"col\": \"data\", \"idx\": 1565837580000, \"val\": 4}, {\"col\": \"data\", \"idx\": 1565837640000, \"val\": 5}, {\"col\": \"data\", \"idx\": 1565837700000, \"val\": 2}, {\"col\": \"data\", \"idx\": 1565837760000, \"val\": 0}, {\"col\": \"data\", \"idx\": 1565837820000, \"val\": 2}, {\"col\": \"data\", \"idx\": 1565837880000, \"val\": 1}, {\"col\": \"data\", \"idx\": 1565837940000, \"val\": 2}, {\"col\": \"data\", \"idx\": 1565838000000, \"val\": 4}, {\"col\": \"data\", \"idx\": 1565838060000, \"val\": 2}, {\"col\": \"data\", \"idx\": 1565838120000, \"val\": 2}, {\"col\": \"data\", \"idx\": 1565838180000, \"val\": 4}, {\"col\": \"data\", \"idx\": 1565838240000, \"val\": 1}, {\"col\": \"data\", \"idx\": 1565838300000, \"val\": 0}, {\"col\": \"data\", \"idx\": 1565838360000, \"val\": 0}, {\"col\": \"data\", \"idx\": 1565838420000, \"val\": 5}, {\"col\": \"data\", \"idx\": 1565838480000, \"val\": 6}, {\"col\": \"data\", \"idx\": 1565838540000, \"val\": 2}, {\"col\": \"data\", \"idx\": 1565838600000, \"val\": 2}, {\"col\": \"data\", \"idx\": 1565838660000, \"val\": 0}, {\"col\": \"data\", \"idx\": 1565838720000, \"val\": 0}, {\"col\": \"data\", \"idx\": 1565838780000, \"val\": 0}, {\"col\": \"data\", \"idx\": 1565838840000, \"val\": 0}, {\"col\": \"data\", \"idx\": 1565838900000, \"val\": 0}, {\"col\": \"data\", \"idx\": 1565838960000, \"val\": 0}, {\"col\": \"data\", \"idx\": 1565839020000, \"val\": 0}, {\"col\": \"data\", \"idx\": 1565839080000, \"val\": 0}, {\"col\": \"data\", \"idx\": 1565839140000, \"val\": 0}, {\"col\": \"data\", \"idx\": 1565839200000, \"val\": 0}, {\"col\": \"data\", \"idx\": 1565839260000, \"val\": 0}, {\"col\": \"data\", \"idx\": 1565839320000, \"val\": 0}, {\"col\": \"data\", \"idx\": 1565839380000, \"val\": 0}, {\"col\": \"data\", \"idx\": 1565839440000, \"val\": 2}, {\"col\": \"data\", \"idx\": 1565839500000, \"val\": 3}, {\"col\": \"data\", \"idx\": 1565839560000, \"val\": 2}, {\"col\": \"data\", \"idx\": 1565839620000, \"val\": 1}, {\"col\": \"data\", \"idx\": 1565839680000, \"val\": 2}, {\"col\": \"data\", \"idx\": 1565839740000, \"val\": 8}, {\"col\": \"data\", \"idx\": 1565839800000, \"val\": 2}, {\"col\": \"data\", \"idx\": 1565839860000, \"val\": 3}, {\"col\": \"data\", \"idx\": 1565839920000, \"val\": 1}, {\"col\": \"data\", \"idx\": 1565839980000, \"val\": 2}, {\"col\": \"data\", \"idx\": 1565840040000, \"val\": 1}, {\"col\": \"data\", \"idx\": 1565840100000, \"val\": 0}, {\"col\": \"data\", \"idx\": 1565840160000, \"val\": 0}, {\"col\": \"data\", \"idx\": 1565840220000, \"val\": 0}, {\"col\": \"data\", \"idx\": 1565840280000, \"val\": 0}, {\"col\": \"data\", \"idx\": 1565840340000, \"val\": 0}, {\"col\": \"data\", \"idx\": 1565840400000, \"val\": 0}, {\"col\": \"data\", \"idx\": 1565840460000, \"val\": 0}, {\"col\": \"data\", \"idx\": 1565840520000, \"val\": 0}, {\"col\": \"data\", \"idx\": 1565840580000, \"val\": 0}, {\"col\": \"data\", \"idx\": 1565840640000, \"val\": 0}, {\"col\": \"data\", \"idx\": 1565840700000, \"val\": 0}, {\"col\": \"data\", \"idx\": 1565840760000, \"val\": 0}, {\"col\": \"data\", \"idx\": 1565840820000, \"val\": 0}, {\"col\": \"data\", \"idx\": 1565840880000, \"val\": 0}, {\"col\": \"data\", \"idx\": 1565840940000, \"val\": 0}, {\"col\": \"data\", \"idx\": 1565841000000, \"val\": 0}, {\"col\": \"data\", \"idx\": 1565841060000, \"val\": 0}, {\"col\": \"data\", \"idx\": 1565841120000, \"val\": 0}, {\"col\": \"data\", \"idx\": 1565841180000, \"val\": 1}, {\"col\": \"data\", \"idx\": 1565841240000, \"val\": 5}, {\"col\": \"data\", \"idx\": 1565841300000, \"val\": 2}, {\"col\": \"data\", \"idx\": 1565841360000, \"val\": 3}, {\"col\": \"data\", \"idx\": 1565841420000, \"val\": 3}, {\"col\": \"data\", \"idx\": 1565841480000, \"val\": 1}, {\"col\": \"data\", \"idx\": 1565841540000, \"val\": 1}, {\"col\": \"data\", \"idx\": 1565841600000, \"val\": 2}, {\"col\": \"data\", \"idx\": 1565841660000, \"val\": 5}, {\"col\": \"data\", \"idx\": 1565841720000, \"val\": 3}, {\"col\": \"data\", \"idx\": 1565841780000, \"val\": 1}, {\"col\": \"data\", \"idx\": 1565841840000, \"val\": 1}, {\"col\": \"data\", \"idx\": 1565841900000, \"val\": 0}, {\"col\": \"data\", \"idx\": 1565841960000, \"val\": 1}, {\"col\": \"data\", \"idx\": 1565842020000, \"val\": 2}, {\"col\": \"data\", \"idx\": 1565842080000, \"val\": 0}, {\"col\": \"data\", \"idx\": 1565842140000, \"val\": 1}, {\"col\": \"data\", \"idx\": 1565842200000, \"val\": 0}, {\"col\": \"data\", \"idx\": 1565842260000, \"val\": 3}, {\"col\": \"data\", \"idx\": 1565842320000, \"val\": 0}, {\"col\": \"data\", \"idx\": 1565842380000, \"val\": 3}, {\"col\": \"data\", \"idx\": 1565842440000, \"val\": 1}, {\"col\": \"data\", \"idx\": 1565842500000, \"val\": 0}, {\"col\": \"data\", \"idx\": 1565842560000, \"val\": 0}, {\"col\": \"data\", \"idx\": 1565842620000, \"val\": 0}, {\"col\": \"data\", \"idx\": 1565842680000, \"val\": 1}, {\"col\": \"data\", \"idx\": 1565842740000, \"val\": 1}, {\"col\": \"data\", \"idx\": 1565842800000, \"val\": 1}, {\"col\": \"data\", \"idx\": 1565842860000, \"val\": 3}, {\"col\": \"data\", \"idx\": 1565842920000, \"val\": 3}, {\"col\": \"data\", \"idx\": 1565842980000, \"val\": 0}, {\"col\": \"data\", \"idx\": 1565843040000, \"val\": 0}, {\"col\": \"data\", \"idx\": 1565843100000, \"val\": 0}, {\"col\": \"data\", \"idx\": 1565843160000, \"val\": 0}, {\"col\": \"data\", \"idx\": 1565843220000, \"val\": 0}, {\"col\": \"data\", \"idx\": 1565843280000, \"val\": 0}, {\"col\": \"data\", \"idx\": 1565843340000, \"val\": 0}, {\"col\": \"data\", \"idx\": 1565843400000, \"val\": 0}, {\"col\": \"data\", \"idx\": 1565843460000, \"val\": 0}, {\"col\": \"data\", \"idx\": 1565843520000, \"val\": 0}, {\"col\": \"data\", \"idx\": 1565843580000, \"val\": 0}, {\"col\": \"data\", \"idx\": 1565843640000, \"val\": 0}, {\"col\": \"data\", \"idx\": 1565843700000, \"val\": 0}, {\"col\": \"data\", \"idx\": 1565843760000, \"val\": 0}, {\"col\": \"data\", \"idx\": 1565843820000, \"val\": 0}, {\"col\": \"data\", \"idx\": 1565843880000, \"val\": 0}, {\"col\": \"data\", \"idx\": 1565843940000, \"val\": 0}, {\"col\": \"data\", \"idx\": 1565844000000, \"val\": 0}, {\"col\": \"data\", \"idx\": 1565844060000, \"val\": 0}, {\"col\": \"data\", \"idx\": 1565844120000, \"val\": 0}, {\"col\": \"data\", \"idx\": 1565844180000, \"val\": 0}, {\"col\": \"data\", \"idx\": 1565844240000, \"val\": 0}, {\"col\": \"data\", \"idx\": 1565844300000, \"val\": 0}, {\"col\": \"data\", \"idx\": 1565844360000, \"val\": 0}, {\"col\": \"data\", \"idx\": 1565844420000, \"val\": 0}, {\"col\": \"data\", \"idx\": 1565844480000, \"val\": 0}, {\"col\": \"data\", \"idx\": 1565844540000, \"val\": 0}, {\"col\": \"data\", \"idx\": 1565844600000, \"val\": 0}, {\"col\": \"data\", \"idx\": 1565844660000, \"val\": 0}, {\"col\": \"data\", \"idx\": 1565844720000, \"val\": 0}, {\"col\": \"data\", \"idx\": 1565844780000, \"val\": 0}, {\"col\": \"data\", \"idx\": 1565844840000, \"val\": 0}, {\"col\": \"data\", \"idx\": 1565844900000, \"val\": 0}, {\"col\": \"data\", \"idx\": 1565844960000, \"val\": 0}, {\"col\": \"data\", \"idx\": 1565845020000, \"val\": 0}, {\"col\": \"data\", \"idx\": 1565845080000, \"val\": 0}, {\"col\": \"data\", \"idx\": 1565845140000, \"val\": 0}, {\"col\": \"data\", \"idx\": 1565845200000, \"val\": 2}, {\"col\": \"data\", \"idx\": 1565845260000, \"val\": 2}, {\"col\": \"data\", \"idx\": 1565845320000, \"val\": 4}, {\"col\": \"data\", \"idx\": 1565845380000, \"val\": 3}, {\"col\": \"data\", \"idx\": 1565845440000, \"val\": 2}, {\"col\": \"data\", \"idx\": 1565845500000, \"val\": 1}, {\"col\": \"data\", \"idx\": 1565845560000, \"val\": 2}, {\"col\": \"data\", \"idx\": 1565845620000, \"val\": 0}, {\"col\": \"data\", \"idx\": 1565845680000, \"val\": 0}, {\"col\": \"data\", \"idx\": 1565845740000, \"val\": 0}, {\"col\": \"data\", \"idx\": 1565845800000, \"val\": 0}, {\"col\": \"data\", \"idx\": 1565845860000, \"val\": 0}, {\"col\": \"data\", \"idx\": 1565845920000, \"val\": 0}, {\"col\": \"data\", \"idx\": 1565845980000, \"val\": 0}, {\"col\": \"data\", \"idx\": 1565846040000, \"val\": 0}, {\"col\": \"data\", \"idx\": 1565846100000, \"val\": 3}, {\"col\": \"data\", \"idx\": 1565846160000, \"val\": 1}, {\"col\": \"data\", \"idx\": 1565846220000, \"val\": 3}, {\"col\": \"data\", \"idx\": 1565846280000, \"val\": 0}, {\"col\": \"data\", \"idx\": 1565846340000, \"val\": 3}, {\"col\": \"data\", \"idx\": 1565846400000, \"val\": 1}, {\"col\": \"data\", \"idx\": 1565846460000, \"val\": 3}, {\"col\": \"data\", \"idx\": 1565846520000, \"val\": 2}, {\"col\": \"data\", \"idx\": 1565846580000, \"val\": 2}, {\"col\": \"data\", \"idx\": 1565846640000, \"val\": 3}, {\"col\": \"data\", \"idx\": 1565846700000, \"val\": 0}, {\"col\": \"data\", \"idx\": 1565846760000, \"val\": 1}, {\"col\": \"data\", \"idx\": 1565846820000, \"val\": 2}]}], \"height\": 500, \"legends\": [], \"marks\": [{\"from\": {\"data\": \"table\", \"transform\": [{\"keys\": [\"data.col\"], \"type\": \"facet\"}]}, \"marks\": [{\"properties\": {\"enter\": {\"stroke\": {\"field\": \"data.col\", \"scale\": \"color\"}, \"strokeWidth\": {\"value\": 2}, \"x\": {\"field\": \"data.idx\", \"scale\": \"x\"}, \"y\": {\"field\": \"data.val\", \"scale\": \"y\"}}}, \"type\": \"line\"}], \"type\": \"group\"}], \"padding\": \"auto\", \"scales\": [{\"domain\": {\"data\": \"table\", \"field\": \"data.idx\"}, \"name\": \"x\", \"range\": \"width\", \"type\": \"time\"}, {\"domain\": {\"data\": \"table\", \"field\": \"data.val\"}, \"name\": \"y\", \"nice\": true, \"range\": \"height\"}, {\"domain\": {\"data\": \"table\", \"field\": \"data.col\"}, \"name\": \"color\", \"range\": \"category20\", \"type\": \"ordinal\"}], \"width\": 960}, function(chart) {\n",
       "         chart({el: \"#visfdfe0e5595e44d0298e9f0120cf1c497\"}).update();\n",
       "       });\n",
       "     };\n",
       "     _do_plot();\n",
       "   })();\n",
       "</script>\n",
       "<style>.vega canvas {width: 100%;}</style>\n",
       "        "
      ],
      "text/plain": [
       "<IPython.core.display.HTML object>"
      ]
     },
     "metadata": {},
     "output_type": "display_data"
    }
   ],
   "source": [
    "vincent.core.initialize_notebook()\n",
    "time_chart = vincent.Line(per_minute)\n",
    "time_chart.axis_titles(x='Time', y='Freq')\n",
    "time_chart.display()"
   ]
  },
  {
   "cell_type": "code",
   "execution_count": null,
   "metadata": {},
   "outputs": [],
   "source": [
    "\n"
   ]
  },
  {
   "cell_type": "code",
   "execution_count": null,
   "metadata": {},
   "outputs": [],
   "source": []
  },
  {
   "cell_type": "code",
   "execution_count": null,
   "metadata": {},
   "outputs": [],
   "source": []
  },
  {
   "cell_type": "code",
   "execution_count": null,
   "metadata": {},
   "outputs": [],
   "source": []
  }
 ],
 "metadata": {
  "kernelspec": {
   "display_name": "Python 3",
   "language": "python",
   "name": "python3"
  },
  "language_info": {
   "codemirror_mode": {
    "name": "ipython",
    "version": 3
   },
   "file_extension": ".py",
   "mimetype": "text/x-python",
   "name": "python",
   "nbconvert_exporter": "python",
   "pygments_lexer": "ipython3",
   "version": "3.7.3"
  }
 },
 "nbformat": 4,
 "nbformat_minor": 2
}
