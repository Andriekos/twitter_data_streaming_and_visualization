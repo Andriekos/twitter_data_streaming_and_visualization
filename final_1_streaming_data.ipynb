{
 "cells": [
  {
   "cell_type": "code",
   "execution_count": null,
   "metadata": {},
   "outputs": [],
   "source": [
    "import tweepy\n",
    "import json\n",
    "from tweepy.streaming import StreamListener\n",
    "\n",
    "\n",
    "ACCESS_TOKEN = \"545740744-WV9TEBIcUD89VcD9eyYmYPIiM8GcLYvWwjGnSmoc\"\n",
    "ACCESS_TOKEN_SECRET = \"7ZGS5pYNwtjDGDAEDc3nCO4NLhdFKf97u79yOTWx02S1G\"\n",
    "CONSUMER_KEY = \"i1tyuoX3hURpMhc1TpX6JmuQB\"\n",
    "CONSUMER_SECRET = \"YyFcD94eXxZNpULqqdHUkPaN09kSzrV0NxeXG2mgNGHeAUg4pf\"\n",
    "\n",
    "auth = tweepy.OAuthHandler(CONSUMER_KEY, CONSUMER_SECRET)\n",
    "auth.set_access_token(ACCESS_TOKEN, ACCESS_TOKEN_SECRET)\n",
    "\n",
    "class MyListener(StreamListener):\n",
    "  \n",
    "    def on_data(self, data):\n",
    "        try:\n",
    "            with open('racism_baru.json','a') as f:\n",
    "                f.write(data)\n",
    "                return True\n",
    "        except BaseException as e:\n",
    "            print('Error on_data: %s' & str(e))\n",
    "        return True\n",
    "    \n",
    "    def on_error(self, status):\n",
    "        print(status)\n",
    "        return True\n",
    "\n",
    "twitter_stream = tweepy.Stream(auth, MyListener())\n",
    "twitter_stream.filter(track='#WakeUpToRacism')\n",
    "#twitter_stream.filter(locations=[-6.38,49.87,1.77,55.81])"
   ]
  }
 ],
 "metadata": {
  "kernelspec": {
   "display_name": "Python 3",
   "language": "python",
   "name": "python3"
  },
  "language_info": {
   "codemirror_mode": {
    "name": "ipython",
    "version": 3
   },
   "file_extension": ".py",
   "mimetype": "text/x-python",
   "name": "python",
   "nbconvert_exporter": "python",
   "pygments_lexer": "ipython3",
   "version": "3.7.3"
  }
 },
 "nbformat": 4,
 "nbformat_minor": 2
}
